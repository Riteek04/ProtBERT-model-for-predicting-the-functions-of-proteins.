{
 "cells": [
  {
   "cell_type": "markdown",
   "metadata": {
    "id": "kefG_YL8oBru"
   },
   "source": [
    "# **ProtBERT** **Preprocessing**"
   ]
  },
  {
   "cell_type": "markdown",
   "metadata": {
    "id": "FffXch0doOqN"
   },
   "source": [
    "1: Upload the FASTA File"
   ]
  },
  {
   "cell_type": "code",
   "execution_count": null,
   "metadata": {
    "colab": {
     "base_uri": "https://localhost:8080/",
     "height": 73
    },
    "executionInfo": {
     "elapsed": 105654,
     "status": "ok",
     "timestamp": 1744035863802,
     "user": {
      "displayName": "ANSHUMAN RATH 22BAC10002",
      "userId": "09013796805880136551"
     },
     "user_tz": -330
    },
    "id": "OmcHGYqRoM0S",
    "outputId": "c4695727-a7d3-47b8-e3ef-a92a8608203d"
   },
   "outputs": [
    {
     "data": {
      "text/html": [
       "\n",
       "     <input type=\"file\" id=\"files-6031ec43-2698-4969-a824-42c3f45cf7c1\" name=\"files[]\" multiple disabled\n",
       "        style=\"border:none\" />\n",
       "     <output id=\"result-6031ec43-2698-4969-a824-42c3f45cf7c1\">\n",
       "      Upload widget is only available when the cell has been executed in the\n",
       "      current browser session. Please rerun this cell to enable.\n",
       "      </output>\n",
       "      <script>// Copyright 2017 Google LLC\n",
       "//\n",
       "// Licensed under the Apache License, Version 2.0 (the \"License\");\n",
       "// you may not use this file except in compliance with the License.\n",
       "// You may obtain a copy of the License at\n",
       "//\n",
       "//      http://www.apache.org/licenses/LICENSE-2.0\n",
       "//\n",
       "// Unless required by applicable law or agreed to in writing, software\n",
       "// distributed under the License is distributed on an \"AS IS\" BASIS,\n",
       "// WITHOUT WARRANTIES OR CONDITIONS OF ANY KIND, either express or implied.\n",
       "// See the License for the specific language governing permissions and\n",
       "// limitations under the License.\n",
       "\n",
       "/**\n",
       " * @fileoverview Helpers for google.colab Python module.\n",
       " */\n",
       "(function(scope) {\n",
       "function span(text, styleAttributes = {}) {\n",
       "  const element = document.createElement('span');\n",
       "  element.textContent = text;\n",
       "  for (const key of Object.keys(styleAttributes)) {\n",
       "    element.style[key] = styleAttributes[key];\n",
       "  }\n",
       "  return element;\n",
       "}\n",
       "\n",
       "// Max number of bytes which will be uploaded at a time.\n",
       "const MAX_PAYLOAD_SIZE = 100 * 1024;\n",
       "\n",
       "function _uploadFiles(inputId, outputId) {\n",
       "  const steps = uploadFilesStep(inputId, outputId);\n",
       "  const outputElement = document.getElementById(outputId);\n",
       "  // Cache steps on the outputElement to make it available for the next call\n",
       "  // to uploadFilesContinue from Python.\n",
       "  outputElement.steps = steps;\n",
       "\n",
       "  return _uploadFilesContinue(outputId);\n",
       "}\n",
       "\n",
       "// This is roughly an async generator (not supported in the browser yet),\n",
       "// where there are multiple asynchronous steps and the Python side is going\n",
       "// to poll for completion of each step.\n",
       "// This uses a Promise to block the python side on completion of each step,\n",
       "// then passes the result of the previous step as the input to the next step.\n",
       "function _uploadFilesContinue(outputId) {\n",
       "  const outputElement = document.getElementById(outputId);\n",
       "  const steps = outputElement.steps;\n",
       "\n",
       "  const next = steps.next(outputElement.lastPromiseValue);\n",
       "  return Promise.resolve(next.value.promise).then((value) => {\n",
       "    // Cache the last promise value to make it available to the next\n",
       "    // step of the generator.\n",
       "    outputElement.lastPromiseValue = value;\n",
       "    return next.value.response;\n",
       "  });\n",
       "}\n",
       "\n",
       "/**\n",
       " * Generator function which is called between each async step of the upload\n",
       " * process.\n",
       " * @param {string} inputId Element ID of the input file picker element.\n",
       " * @param {string} outputId Element ID of the output display.\n",
       " * @return {!Iterable<!Object>} Iterable of next steps.\n",
       " */\n",
       "function* uploadFilesStep(inputId, outputId) {\n",
       "  const inputElement = document.getElementById(inputId);\n",
       "  inputElement.disabled = false;\n",
       "\n",
       "  const outputElement = document.getElementById(outputId);\n",
       "  outputElement.innerHTML = '';\n",
       "\n",
       "  const pickedPromise = new Promise((resolve) => {\n",
       "    inputElement.addEventListener('change', (e) => {\n",
       "      resolve(e.target.files);\n",
       "    });\n",
       "  });\n",
       "\n",
       "  const cancel = document.createElement('button');\n",
       "  inputElement.parentElement.appendChild(cancel);\n",
       "  cancel.textContent = 'Cancel upload';\n",
       "  const cancelPromise = new Promise((resolve) => {\n",
       "    cancel.onclick = () => {\n",
       "      resolve(null);\n",
       "    };\n",
       "  });\n",
       "\n",
       "  // Wait for the user to pick the files.\n",
       "  const files = yield {\n",
       "    promise: Promise.race([pickedPromise, cancelPromise]),\n",
       "    response: {\n",
       "      action: 'starting',\n",
       "    }\n",
       "  };\n",
       "\n",
       "  cancel.remove();\n",
       "\n",
       "  // Disable the input element since further picks are not allowed.\n",
       "  inputElement.disabled = true;\n",
       "\n",
       "  if (!files) {\n",
       "    return {\n",
       "      response: {\n",
       "        action: 'complete',\n",
       "      }\n",
       "    };\n",
       "  }\n",
       "\n",
       "  for (const file of files) {\n",
       "    const li = document.createElement('li');\n",
       "    li.append(span(file.name, {fontWeight: 'bold'}));\n",
       "    li.append(span(\n",
       "        `(${file.type || 'n/a'}) - ${file.size} bytes, ` +\n",
       "        `last modified: ${\n",
       "            file.lastModifiedDate ? file.lastModifiedDate.toLocaleDateString() :\n",
       "                                    'n/a'} - `));\n",
       "    const percent = span('0% done');\n",
       "    li.appendChild(percent);\n",
       "\n",
       "    outputElement.appendChild(li);\n",
       "\n",
       "    const fileDataPromise = new Promise((resolve) => {\n",
       "      const reader = new FileReader();\n",
       "      reader.onload = (e) => {\n",
       "        resolve(e.target.result);\n",
       "      };\n",
       "      reader.readAsArrayBuffer(file);\n",
       "    });\n",
       "    // Wait for the data to be ready.\n",
       "    let fileData = yield {\n",
       "      promise: fileDataPromise,\n",
       "      response: {\n",
       "        action: 'continue',\n",
       "      }\n",
       "    };\n",
       "\n",
       "    // Use a chunked sending to avoid message size limits. See b/62115660.\n",
       "    let position = 0;\n",
       "    do {\n",
       "      const length = Math.min(fileData.byteLength - position, MAX_PAYLOAD_SIZE);\n",
       "      const chunk = new Uint8Array(fileData, position, length);\n",
       "      position += length;\n",
       "\n",
       "      const base64 = btoa(String.fromCharCode.apply(null, chunk));\n",
       "      yield {\n",
       "        response: {\n",
       "          action: 'append',\n",
       "          file: file.name,\n",
       "          data: base64,\n",
       "        },\n",
       "      };\n",
       "\n",
       "      let percentDone = fileData.byteLength === 0 ?\n",
       "          100 :\n",
       "          Math.round((position / fileData.byteLength) * 100);\n",
       "      percent.textContent = `${percentDone}% done`;\n",
       "\n",
       "    } while (position < fileData.byteLength);\n",
       "  }\n",
       "\n",
       "  // All done.\n",
       "  yield {\n",
       "    response: {\n",
       "      action: 'complete',\n",
       "    }\n",
       "  };\n",
       "}\n",
       "\n",
       "scope.google = scope.google || {};\n",
       "scope.google.colab = scope.google.colab || {};\n",
       "scope.google.colab._files = {\n",
       "  _uploadFiles,\n",
       "  _uploadFilesContinue,\n",
       "};\n",
       "})(self);\n",
       "</script> "
      ],
      "text/plain": [
       "<IPython.core.display.HTML object>"
      ]
     },
     "metadata": {},
     "output_type": "display_data"
    },
    {
     "name": "stdout",
     "output_type": "stream",
     "text": [
      "Saving uniprotkb_AND_reviewed_true_AND_model_o_2025_04_07.fasta to uniprotkb_AND_reviewed_true_AND_model_o_2025_04_07.fasta\n"
     ]
    }
   ],
   "source": [
    "from google.colab import files\n",
    "\n",
    "uploaded = files.upload()\n"
   ]
  },
  {
   "cell_type": "markdown",
   "metadata": {
    "id": "5rYFBvyYo3Uc"
   },
   "source": [
    "2:Installing the Required Packages"
   ]
  },
  {
   "cell_type": "code",
   "execution_count": null,
   "metadata": {
    "colab": {
     "base_uri": "https://localhost:8080/"
    },
    "executionInfo": {
     "elapsed": 146095,
     "status": "ok",
     "timestamp": 1744036063890,
     "user": {
      "displayName": "ANSHUMAN RATH 22BAC10002",
      "userId": "09013796805880136551"
     },
     "user_tz": -330
    },
    "id": "Wz_vy5VGo_mU",
    "outputId": "602caee9-c82a-4c61-8ff5-aacde9943a45"
   },
   "outputs": [
    {
     "name": "stdout",
     "output_type": "stream",
     "text": [
      "Requirement already satisfied: transformers in /usr/local/lib/python3.11/dist-packages (4.50.3)\n",
      "Collecting biopython\n",
      "  Downloading biopython-1.85-cp311-cp311-manylinux_2_17_x86_64.manylinux2014_x86_64.whl.metadata (13 kB)\n",
      "Requirement already satisfied: torch in /usr/local/lib/python3.11/dist-packages (2.6.0+cu124)\n",
      "Requirement already satisfied: filelock in /usr/local/lib/python3.11/dist-packages (from transformers) (3.18.0)\n",
      "Requirement already satisfied: huggingface-hub<1.0,>=0.26.0 in /usr/local/lib/python3.11/dist-packages (from transformers) (0.30.1)\n",
      "Requirement already satisfied: numpy>=1.17 in /usr/local/lib/python3.11/dist-packages (from transformers) (2.0.2)\n",
      "Requirement already satisfied: packaging>=20.0 in /usr/local/lib/python3.11/dist-packages (from transformers) (24.2)\n",
      "Requirement already satisfied: pyyaml>=5.1 in /usr/local/lib/python3.11/dist-packages (from transformers) (6.0.2)\n",
      "Requirement already satisfied: regex!=2019.12.17 in /usr/local/lib/python3.11/dist-packages (from transformers) (2024.11.6)\n",
      "Requirement already satisfied: requests in /usr/local/lib/python3.11/dist-packages (from transformers) (2.32.3)\n",
      "Requirement already satisfied: tokenizers<0.22,>=0.21 in /usr/local/lib/python3.11/dist-packages (from transformers) (0.21.1)\n",
      "Requirement already satisfied: safetensors>=0.4.3 in /usr/local/lib/python3.11/dist-packages (from transformers) (0.5.3)\n",
      "Requirement already satisfied: tqdm>=4.27 in /usr/local/lib/python3.11/dist-packages (from transformers) (4.67.1)\n",
      "Requirement already satisfied: typing-extensions>=4.10.0 in /usr/local/lib/python3.11/dist-packages (from torch) (4.13.0)\n",
      "Requirement already satisfied: networkx in /usr/local/lib/python3.11/dist-packages (from torch) (3.4.2)\n",
      "Requirement already satisfied: jinja2 in /usr/local/lib/python3.11/dist-packages (from torch) (3.1.6)\n",
      "Requirement already satisfied: fsspec in /usr/local/lib/python3.11/dist-packages (from torch) (2025.3.2)\n",
      "Collecting nvidia-cuda-nvrtc-cu12==12.4.127 (from torch)\n",
      "  Downloading nvidia_cuda_nvrtc_cu12-12.4.127-py3-none-manylinux2014_x86_64.whl.metadata (1.5 kB)\n",
      "Collecting nvidia-cuda-runtime-cu12==12.4.127 (from torch)\n",
      "  Downloading nvidia_cuda_runtime_cu12-12.4.127-py3-none-manylinux2014_x86_64.whl.metadata (1.5 kB)\n",
      "Collecting nvidia-cuda-cupti-cu12==12.4.127 (from torch)\n",
      "  Downloading nvidia_cuda_cupti_cu12-12.4.127-py3-none-manylinux2014_x86_64.whl.metadata (1.6 kB)\n",
      "Collecting nvidia-cudnn-cu12==9.1.0.70 (from torch)\n",
      "  Downloading nvidia_cudnn_cu12-9.1.0.70-py3-none-manylinux2014_x86_64.whl.metadata (1.6 kB)\n",
      "Collecting nvidia-cublas-cu12==12.4.5.8 (from torch)\n",
      "  Downloading nvidia_cublas_cu12-12.4.5.8-py3-none-manylinux2014_x86_64.whl.metadata (1.5 kB)\n",
      "Collecting nvidia-cufft-cu12==11.2.1.3 (from torch)\n",
      "  Downloading nvidia_cufft_cu12-11.2.1.3-py3-none-manylinux2014_x86_64.whl.metadata (1.5 kB)\n",
      "Collecting nvidia-curand-cu12==10.3.5.147 (from torch)\n",
      "  Downloading nvidia_curand_cu12-10.3.5.147-py3-none-manylinux2014_x86_64.whl.metadata (1.5 kB)\n",
      "Collecting nvidia-cusolver-cu12==11.6.1.9 (from torch)\n",
      "  Downloading nvidia_cusolver_cu12-11.6.1.9-py3-none-manylinux2014_x86_64.whl.metadata (1.6 kB)\n",
      "Collecting nvidia-cusparse-cu12==12.3.1.170 (from torch)\n",
      "  Downloading nvidia_cusparse_cu12-12.3.1.170-py3-none-manylinux2014_x86_64.whl.metadata (1.6 kB)\n",
      "Requirement already satisfied: nvidia-cusparselt-cu12==0.6.2 in /usr/local/lib/python3.11/dist-packages (from torch) (0.6.2)\n",
      "Requirement already satisfied: nvidia-nccl-cu12==2.21.5 in /usr/local/lib/python3.11/dist-packages (from torch) (2.21.5)\n",
      "Requirement already satisfied: nvidia-nvtx-cu12==12.4.127 in /usr/local/lib/python3.11/dist-packages (from torch) (12.4.127)\n",
      "Collecting nvidia-nvjitlink-cu12==12.4.127 (from torch)\n",
      "  Downloading nvidia_nvjitlink_cu12-12.4.127-py3-none-manylinux2014_x86_64.whl.metadata (1.5 kB)\n",
      "Requirement already satisfied: triton==3.2.0 in /usr/local/lib/python3.11/dist-packages (from torch) (3.2.0)\n",
      "Requirement already satisfied: sympy==1.13.1 in /usr/local/lib/python3.11/dist-packages (from torch) (1.13.1)\n",
      "Requirement already satisfied: mpmath<1.4,>=1.1.0 in /usr/local/lib/python3.11/dist-packages (from sympy==1.13.1->torch) (1.3.0)\n",
      "Requirement already satisfied: MarkupSafe>=2.0 in /usr/local/lib/python3.11/dist-packages (from jinja2->torch) (3.0.2)\n",
      "Requirement already satisfied: charset-normalizer<4,>=2 in /usr/local/lib/python3.11/dist-packages (from requests->transformers) (3.4.1)\n",
      "Requirement already satisfied: idna<4,>=2.5 in /usr/local/lib/python3.11/dist-packages (from requests->transformers) (3.10)\n",
      "Requirement already satisfied: urllib3<3,>=1.21.1 in /usr/local/lib/python3.11/dist-packages (from requests->transformers) (2.3.0)\n",
      "Requirement already satisfied: certifi>=2017.4.17 in /usr/local/lib/python3.11/dist-packages (from requests->transformers) (2025.1.31)\n",
      "Downloading biopython-1.85-cp311-cp311-manylinux_2_17_x86_64.manylinux2014_x86_64.whl (3.3 MB)\n",
      "\u001b[2K   \u001b[90m━━━━━━━━━━━━━━━━━━━━━━━━━━━━━━━━━━━━━━━━\u001b[0m \u001b[32m3.3/3.3 MB\u001b[0m \u001b[31m33.9 MB/s\u001b[0m eta \u001b[36m0:00:00\u001b[0m\n",
      "\u001b[?25hDownloading nvidia_cublas_cu12-12.4.5.8-py3-none-manylinux2014_x86_64.whl (363.4 MB)\n",
      "\u001b[2K   \u001b[90m━━━━━━━━━━━━━━━━━━━━━━━━━━━━━━━━━━━━━━━━\u001b[0m \u001b[32m363.4/363.4 MB\u001b[0m \u001b[31m2.4 MB/s\u001b[0m eta \u001b[36m0:00:00\u001b[0m\n",
      "\u001b[?25hDownloading nvidia_cuda_cupti_cu12-12.4.127-py3-none-manylinux2014_x86_64.whl (13.8 MB)\n",
      "\u001b[2K   \u001b[90m━━━━━━━━━━━━━━━━━━━━━━━━━━━━━━━━━━━━━━━━\u001b[0m \u001b[32m13.8/13.8 MB\u001b[0m \u001b[31m60.4 MB/s\u001b[0m eta \u001b[36m0:00:00\u001b[0m\n",
      "\u001b[?25hDownloading nvidia_cuda_nvrtc_cu12-12.4.127-py3-none-manylinux2014_x86_64.whl (24.6 MB)\n",
      "\u001b[2K   \u001b[90m━━━━━━━━━━━━━━━━━━━━━━━━━━━━━━━━━━━━━━━━\u001b[0m \u001b[32m24.6/24.6 MB\u001b[0m \u001b[31m33.7 MB/s\u001b[0m eta \u001b[36m0:00:00\u001b[0m\n",
      "\u001b[?25hDownloading nvidia_cuda_runtime_cu12-12.4.127-py3-none-manylinux2014_x86_64.whl (883 kB)\n",
      "\u001b[2K   \u001b[90m━━━━━━━━━━━━━━━━━━━━━━━━━━━━━━━━━━━━━━━━\u001b[0m \u001b[32m883.7/883.7 kB\u001b[0m \u001b[31m51.2 MB/s\u001b[0m eta \u001b[36m0:00:00\u001b[0m\n",
      "\u001b[?25hDownloading nvidia_cudnn_cu12-9.1.0.70-py3-none-manylinux2014_x86_64.whl (664.8 MB)\n",
      "\u001b[2K   \u001b[90m━━━━━━━━━━━━━━━━━━━━━━━━━━━━━━━━━━━━━━━━\u001b[0m \u001b[32m664.8/664.8 MB\u001b[0m \u001b[31m2.3 MB/s\u001b[0m eta \u001b[36m0:00:00\u001b[0m\n",
      "\u001b[?25hDownloading nvidia_cufft_cu12-11.2.1.3-py3-none-manylinux2014_x86_64.whl (211.5 MB)\n",
      "\u001b[2K   \u001b[90m━━━━━━━━━━━━━━━━━━━━━━━━━━━━━━━━━━━━━━━━\u001b[0m \u001b[32m211.5/211.5 MB\u001b[0m \u001b[31m6.0 MB/s\u001b[0m eta \u001b[36m0:00:00\u001b[0m\n",
      "\u001b[?25hDownloading nvidia_curand_cu12-10.3.5.147-py3-none-manylinux2014_x86_64.whl (56.3 MB)\n",
      "\u001b[2K   \u001b[90m━━━━━━━━━━━━━━━━━━━━━━━━━━━━━━━━━━━━━━━━\u001b[0m \u001b[32m56.3/56.3 MB\u001b[0m \u001b[31m6.9 MB/s\u001b[0m eta \u001b[36m0:00:00\u001b[0m\n",
      "\u001b[?25hDownloading nvidia_cusolver_cu12-11.6.1.9-py3-none-manylinux2014_x86_64.whl (127.9 MB)\n",
      "\u001b[2K   \u001b[90m━━━━━━━━━━━━━━━━━━━━━━━━━━━━━━━━━━━━━━━━\u001b[0m \u001b[32m127.9/127.9 MB\u001b[0m \u001b[31m7.2 MB/s\u001b[0m eta \u001b[36m0:00:00\u001b[0m\n",
      "\u001b[?25hDownloading nvidia_cusparse_cu12-12.3.1.170-py3-none-manylinux2014_x86_64.whl (207.5 MB)\n",
      "\u001b[2K   \u001b[90m━━━━━━━━━━━━━━━━━━━━━━━━━━━━━━━━━━━━━━━━\u001b[0m \u001b[32m207.5/207.5 MB\u001b[0m \u001b[31m6.3 MB/s\u001b[0m eta \u001b[36m0:00:00\u001b[0m\n",
      "\u001b[?25hDownloading nvidia_nvjitlink_cu12-12.4.127-py3-none-manylinux2014_x86_64.whl (21.1 MB)\n",
      "\u001b[2K   \u001b[90m━━━━━━━━━━━━━━━━━━━━━━━━━━━━━━━━━━━━━━━━\u001b[0m \u001b[32m21.1/21.1 MB\u001b[0m \u001b[31m23.0 MB/s\u001b[0m eta \u001b[36m0:00:00\u001b[0m\n",
      "\u001b[?25hInstalling collected packages: nvidia-nvjitlink-cu12, nvidia-curand-cu12, nvidia-cufft-cu12, nvidia-cuda-runtime-cu12, nvidia-cuda-nvrtc-cu12, nvidia-cuda-cupti-cu12, nvidia-cublas-cu12, biopython, nvidia-cusparse-cu12, nvidia-cudnn-cu12, nvidia-cusolver-cu12\n",
      "  Attempting uninstall: nvidia-nvjitlink-cu12\n",
      "    Found existing installation: nvidia-nvjitlink-cu12 12.5.82\n",
      "    Uninstalling nvidia-nvjitlink-cu12-12.5.82:\n",
      "      Successfully uninstalled nvidia-nvjitlink-cu12-12.5.82\n",
      "  Attempting uninstall: nvidia-curand-cu12\n",
      "    Found existing installation: nvidia-curand-cu12 10.3.6.82\n",
      "    Uninstalling nvidia-curand-cu12-10.3.6.82:\n",
      "      Successfully uninstalled nvidia-curand-cu12-10.3.6.82\n",
      "  Attempting uninstall: nvidia-cufft-cu12\n",
      "    Found existing installation: nvidia-cufft-cu12 11.2.3.61\n",
      "    Uninstalling nvidia-cufft-cu12-11.2.3.61:\n",
      "      Successfully uninstalled nvidia-cufft-cu12-11.2.3.61\n",
      "  Attempting uninstall: nvidia-cuda-runtime-cu12\n",
      "    Found existing installation: nvidia-cuda-runtime-cu12 12.5.82\n",
      "    Uninstalling nvidia-cuda-runtime-cu12-12.5.82:\n",
      "      Successfully uninstalled nvidia-cuda-runtime-cu12-12.5.82\n",
      "  Attempting uninstall: nvidia-cuda-nvrtc-cu12\n",
      "    Found existing installation: nvidia-cuda-nvrtc-cu12 12.5.82\n",
      "    Uninstalling nvidia-cuda-nvrtc-cu12-12.5.82:\n",
      "      Successfully uninstalled nvidia-cuda-nvrtc-cu12-12.5.82\n",
      "  Attempting uninstall: nvidia-cuda-cupti-cu12\n",
      "    Found existing installation: nvidia-cuda-cupti-cu12 12.5.82\n",
      "    Uninstalling nvidia-cuda-cupti-cu12-12.5.82:\n",
      "      Successfully uninstalled nvidia-cuda-cupti-cu12-12.5.82\n",
      "  Attempting uninstall: nvidia-cublas-cu12\n",
      "    Found existing installation: nvidia-cublas-cu12 12.5.3.2\n",
      "    Uninstalling nvidia-cublas-cu12-12.5.3.2:\n",
      "      Successfully uninstalled nvidia-cublas-cu12-12.5.3.2\n",
      "  Attempting uninstall: nvidia-cusparse-cu12\n",
      "    Found existing installation: nvidia-cusparse-cu12 12.5.1.3\n",
      "    Uninstalling nvidia-cusparse-cu12-12.5.1.3:\n",
      "      Successfully uninstalled nvidia-cusparse-cu12-12.5.1.3\n",
      "  Attempting uninstall: nvidia-cudnn-cu12\n",
      "    Found existing installation: nvidia-cudnn-cu12 9.3.0.75\n",
      "    Uninstalling nvidia-cudnn-cu12-9.3.0.75:\n",
      "      Successfully uninstalled nvidia-cudnn-cu12-9.3.0.75\n",
      "  Attempting uninstall: nvidia-cusolver-cu12\n",
      "    Found existing installation: nvidia-cusolver-cu12 11.6.3.83\n",
      "    Uninstalling nvidia-cusolver-cu12-11.6.3.83:\n",
      "      Successfully uninstalled nvidia-cusolver-cu12-11.6.3.83\n",
      "Successfully installed biopython-1.85 nvidia-cublas-cu12-12.4.5.8 nvidia-cuda-cupti-cu12-12.4.127 nvidia-cuda-nvrtc-cu12-12.4.127 nvidia-cuda-runtime-cu12-12.4.127 nvidia-cudnn-cu12-9.1.0.70 nvidia-cufft-cu12-11.2.1.3 nvidia-curand-cu12-10.3.5.147 nvidia-cusolver-cu12-11.6.1.9 nvidia-cusparse-cu12-12.3.1.170 nvidia-nvjitlink-cu12-12.4.127\n"
     ]
    }
   ],
   "source": [
    "!pip install transformers biopython torch"
   ]
  },
  {
   "cell_type": "markdown",
   "metadata": {
    "id": "ZFhZKGaupn_r"
   },
   "source": [
    " 3: Full Preprocessing Code"
   ]
  },
  {
   "cell_type": "code",
   "execution_count": null,
   "metadata": {
    "colab": {
     "base_uri": "https://localhost:8080/",
     "height": 304,
     "referenced_widgets": [
      "7caccbe242c24d2494b5b751ca1bb653",
      "31a949df5a20469cb616347ccf145959",
      "4d00932d0630449ab0e7ac59255cef5d",
      "29a3d99b40844e77bddc04b703689767",
      "1b6a0cf9412a4860968ce8ac6715f504",
      "9a75c0f196ee4dfd9e6e2e7d19c426f0",
      "b3fcb5c742e1424c81606cfc3dbdc9eb",
      "0159fc734b294395bb8c20e6065bcdfe",
      "ad4b7105fefb447cb6023d630088b322",
      "5069c4e0a3be4d779735f6ece8cca269",
      "668cbaa7c2c5418b9e6675fd9194f85c",
      "e6002caedfc54e94ba96ca938d12f457",
      "b6076444cadb477aa563843e5b2aefec",
      "ad17de59c5884d9da2333722b62d37e4",
      "c20914beae1842999ce01b1b755d32aa",
      "3d5cc3caed8b490d8a7970da4fa8563e",
      "27ad805e984f4e798f70f8c43d44effc",
      "d90f5fd97bc0457ea7556fc0ae05b759",
      "3f10fbf122e7402ca2d88033158c0587",
      "30f44f7dd56f46bf9a93313ebf9ec74c",
      "d90ca9ed5e47477c924b119ba03a3c55",
      "de297f09c25e47e1873b7631eb8bd608",
      "b937243340fa4086a04c426aded5468d",
      "babc4992fc554f158aa2a31916733bd6",
      "20b1ec36e01b4c0ea319d50323c8600d",
      "4f6fec65c1704126a324725f2819d424",
      "4b1c29eaf04c4ac491711b85e4791b20",
      "a087d1a0d8a34b2da4c9356a9b29004f",
      "158319abfc744307b8ba67c004db3fac",
      "be1eff2e832c4b3196c2bc36c29bfa8a",
      "295c369d2c8b43bd929cb86ea96a7574",
      "d9ad0f7d05dc4099aaba2d1b17db86d3",
      "8c00ec777c8d4b1f87a96f6190ad1042",
      "227c24f5e7f942bb961b618d72f62a65",
      "af2d66450d3f41ecacca142fc6b52532",
      "190feb52318c48ad9f279f1cc9f15641",
      "a807507b719841eeb2d81eb0b62580c6",
      "88004a3a89f44609b9b8d1e6f607c676",
      "4d8ba6b27a4e4da992eb583b6daff2e6",
      "d15c8e434c9a4940b3867869839b1a3f",
      "4a4b361e61af4869997cab3b4b2b52e3",
      "517e7e6c218b4180abb064ffb5341faf",
      "960003574d5c4a61b9c3b43d461bb459",
      "d62f0e8c5fef4bd19fb9a7e9d285b620"
     ]
    },
    "executionInfo": {
     "elapsed": 27115,
     "status": "ok",
     "timestamp": 1744036138807,
     "user": {
      "displayName": "ANSHUMAN RATH 22BAC10002",
      "userId": "09013796805880136551"
     },
     "user_tz": -330
    },
    "id": "i8l2EmkfptUc",
    "outputId": "005f12be-84e3-40d3-b618-edfd84728ceb"
   },
   "outputs": [
    {
     "name": "stderr",
     "output_type": "stream",
     "text": [
      "/usr/local/lib/python3.11/dist-packages/huggingface_hub/utils/_auth.py:94: UserWarning: \n",
      "The secret `HF_TOKEN` does not exist in your Colab secrets.\n",
      "To authenticate with the Hugging Face Hub, create a token in your settings tab (https://huggingface.co/settings/tokens), set it as secret in your Google Colab and restart your session.\n",
      "You will be able to reuse this secret in all of your notebooks.\n",
      "Please note that authentication is recommended but still optional to access public models or datasets.\n",
      "  warnings.warn(\n"
     ]
    },
    {
     "data": {
      "application/vnd.jupyter.widget-view+json": {
       "model_id": "7caccbe242c24d2494b5b751ca1bb653",
       "version_major": 2,
       "version_minor": 0
      },
      "text/plain": [
       "tokenizer_config.json:   0%|          | 0.00/86.0 [00:00<?, ?B/s]"
      ]
     },
     "metadata": {},
     "output_type": "display_data"
    },
    {
     "data": {
      "application/vnd.jupyter.widget-view+json": {
       "model_id": "e6002caedfc54e94ba96ca938d12f457",
       "version_major": 2,
       "version_minor": 0
      },
      "text/plain": [
       "vocab.txt:   0%|          | 0.00/81.0 [00:00<?, ?B/s]"
      ]
     },
     "metadata": {},
     "output_type": "display_data"
    },
    {
     "data": {
      "application/vnd.jupyter.widget-view+json": {
       "model_id": "b937243340fa4086a04c426aded5468d",
       "version_major": 2,
       "version_minor": 0
      },
      "text/plain": [
       "special_tokens_map.json:   0%|          | 0.00/112 [00:00<?, ?B/s]"
      ]
     },
     "metadata": {},
     "output_type": "display_data"
    },
    {
     "data": {
      "application/vnd.jupyter.widget-view+json": {
       "model_id": "227c24f5e7f942bb961b618d72f62a65",
       "version_major": 2,
       "version_minor": 0
      },
      "text/plain": [
       "config.json:   0%|          | 0.00/361 [00:00<?, ?B/s]"
      ]
     },
     "metadata": {},
     "output_type": "display_data"
    },
    {
     "name": "stdout",
     "output_type": "stream",
     "text": [
      "Input IDs shape: torch.Size([512])\n",
      "Attention mask shape: torch.Size([512])\n"
     ]
    }
   ],
   "source": [
    "from Bio import SeqIO\n",
    "from transformers import BertTokenizer\n",
    "import torch\n",
    "from torch.utils.data import Dataset\n",
    "\n",
    "# Load ProtBERT tokenizer\n",
    "tokenizer = BertTokenizer.from_pretrained(\"Rostlab/prot_bert\", do_lower_case=False)\n",
    "\n",
    "# Step 1: Parse FASTA\n",
    "def parse_fasta(fasta_path):\n",
    "    sequences = []\n",
    "    for record in SeqIO.parse(fasta_path, \"fasta\"):\n",
    "        sequence = str(record.seq)\n",
    "        if set(sequence).issubset(set(\"ACDEFGHIKLMNPQRSTVWY\")):  # Amino acids\n",
    "            sequences.append(sequence)\n",
    "    return sequences\n",
    "\n",
    "# Step 2: Preprocess (add spaces)\n",
    "def preprocess_sequence(seq):\n",
    "    return ' '.join(list(seq))\n",
    "\n",
    "# Step 3: Tokenize\n",
    "def tokenize_sequences(sequences, tokenizer, max_length=512):\n",
    "    preprocessed = [preprocess_sequence(seq) for seq in sequences]\n",
    "    return tokenizer(\n",
    "        preprocessed,\n",
    "        return_tensors='pt',\n",
    "        padding=True,\n",
    "        truncation=True,\n",
    "        max_length=max_length\n",
    "    )\n",
    "\n",
    "# Step 4: PyTorch Dataset\n",
    "class ProteinSequenceDataset(Dataset):\n",
    "    def __init__(self, sequences, tokenizer):\n",
    "        self.data = tokenize_sequences(sequences, tokenizer)\n",
    "\n",
    "    def __len__(self):\n",
    "        return self.data['input_ids'].shape[0]\n",
    "\n",
    "    def __getitem__(self, idx):\n",
    "        return {\n",
    "            'input_ids': self.data['input_ids'][idx],\n",
    "            'attention_mask': self.data['attention_mask'][idx]\n",
    "        }\n",
    "\n",
    "# === Load and Process ===\n",
    "fasta_file = \"uniprotkb_AND_reviewed_true_AND_model_o_2025_04_07.fasta\"\n",
    "sequences = parse_fasta(fasta_file)\n",
    "\n",
    "# Optional: reduce size for testing\n",
    "sequences = sequences[:100]\n",
    "\n",
    "# Build dataset\n",
    "dataset = ProteinSequenceDataset(sequences, tokenizer)\n",
    "\n",
    "# Check one sample\n",
    "sample = dataset[0]\n",
    "print(\"Input IDs shape:\", sample['input_ids'].shape)\n",
    "print(\"Attention mask shape:\", sample['attention_mask'].shape)\n"
   ]
  },
  {
   "cell_type": "markdown",
   "metadata": {
    "id": "RbbQgfXNp8Oq"
   },
   "source": [
    "4: Visualize Tokens"
   ]
  },
  {
   "cell_type": "code",
   "execution_count": null,
   "metadata": {
    "colab": {
     "base_uri": "https://localhost:8080/"
    },
    "executionInfo": {
     "elapsed": 50,
     "status": "ok",
     "timestamp": 1744036207259,
     "user": {
      "displayName": "ANSHUMAN RATH 22BAC10002",
      "userId": "09013796805880136551"
     },
     "user_tz": -330
    },
    "id": "YomY5YtiqHd5",
    "outputId": "54e42cea-89e0-4e8a-ba36-df3f7def0f61"
   },
   "outputs": [
    {
     "name": "stdout",
     "output_type": "stream",
     "text": [
      "['[CLS]', 'M', 'G', 'L', 'E', 'A', 'L', 'V', 'P', 'L', 'A', 'M', 'I', 'V', 'A', 'I', 'F', 'L', 'L', 'L', 'V', 'D', 'L', 'M', 'H', 'R', 'H', 'Q', 'R', 'W', 'A', 'A', 'R', 'Y', 'P', 'P', 'G', 'P', 'L', 'P', 'L', 'P', 'G', 'L', 'G', 'N', 'L', 'L', 'H', 'V', 'D', 'F', 'Q', 'N', 'T', 'P', 'Y', 'C', 'F', 'D', 'Q', 'L', 'R', 'R', 'R', 'F', 'G', 'D', 'V', 'F', 'S', 'L', 'Q', 'L', 'A', 'W', 'T', 'P', 'V', 'V', 'V', 'L', 'N', 'G', 'L', 'A', 'A', 'V', 'R', 'E', 'A', 'M', 'V', 'T', 'R', 'G', 'E', 'D', 'T', 'A', 'D', 'R', 'P', 'P', 'A', 'P', 'I', 'Y', 'Q', 'V', 'L', 'G', 'F', 'G', 'P', 'R', 'S', 'Q', 'G', 'V', 'I', 'L', 'S', 'R', 'Y', 'G', 'P', 'A', 'W', 'R', 'E', 'Q', 'R', 'R', 'F', 'S', 'V', 'S', 'T', 'L', 'R', 'N', 'L', 'G', 'L', 'G', 'K', 'K', 'S', 'L', 'E', 'Q', 'W', 'V', 'T', 'E', 'E', 'A', 'A', 'C', 'L', 'C', 'A', 'A', 'F', 'A', 'D', 'Q', 'A', 'G', 'R', 'P', 'F', 'R', 'P', 'N', 'G', 'L', 'L', 'D', 'K', 'A', 'V', 'S', 'N', 'V', 'I', 'A', 'S', 'L', 'T', 'C', 'G', 'R', 'R', 'F', 'E', 'Y', 'D', 'D', 'P', 'R', 'F', 'L', 'R', 'L', 'L', 'D', 'L', 'A', 'Q', 'E', 'G', 'L', 'K', 'E', 'E', 'S', 'G', 'F', 'L', 'R', 'E', 'V', 'L', 'N', 'A', 'V', 'P', 'V', 'L', 'P', 'H', 'I', 'P', 'A', 'L', 'A', 'G', 'K', 'V', 'L', 'R', 'F', 'Q', 'K', 'A', 'F', 'L', 'T', 'Q', 'L', 'D', 'E', 'L', 'L', 'T', 'E', 'H', 'R', 'M', 'T', 'W', 'D', 'P', 'A', 'Q', 'P', 'P', 'R', 'D', 'L', 'T', 'E', 'A', 'F', 'L', 'A', 'K', 'K', 'E', 'K', 'A', 'K', 'G', 'S', 'P', 'E', 'S', 'S', 'F', 'N', 'D', 'E', 'N', 'L', 'R', 'I', 'V', 'V', 'G', 'N', 'L', 'F', 'L', 'A', 'G', 'M', 'V', 'T', 'T', 'S', 'T', 'T', 'L', 'A', 'W', 'G', 'L', 'L', 'L', 'M', 'I', 'L', 'H', 'L', 'D', 'V', 'Q', 'R', 'G', 'R', 'R', 'V', 'S', 'P', 'G', 'C', 'P', 'I', 'V', 'G', 'T', 'H', 'V', 'C', 'P', 'V', 'R', 'V', 'Q', 'Q', 'E', 'I', 'D', 'D', 'V', 'I', 'G', 'Q', 'V', 'R', 'R', 'P', 'E', 'M', 'G', 'D', 'Q', 'A', 'H', 'M', 'P', 'C', 'T', 'T', 'A', 'V', 'I', 'H', 'E', 'V', 'Q', 'H', 'F', 'G', 'D', 'I', 'V', 'P', 'L', 'G', 'V', 'T', 'H', 'M', 'T', 'S', 'R', 'D', 'I', 'E', 'V', 'Q', 'G', 'F', 'R', 'I', 'P', 'K', 'G', 'T', 'T', 'L', 'I', 'T', 'N', 'L', 'S', 'S', 'V', 'L', 'K', 'D', 'E', 'A', 'V', 'W', 'K', 'K', 'P', 'F', 'R', 'F', 'H', 'P', 'E', 'H', 'F', 'L', 'D', 'A', 'Q', 'G', 'H', 'F', 'V', 'K', 'P', 'E', 'A', 'F', 'L', 'P', 'F', 'S', 'A', 'G', 'R', 'R', 'A', 'C', 'L', 'G', 'E', 'P', 'L', 'A', 'R', 'M', 'E', 'L', 'F', 'L', 'F', 'F', 'T', 'S', 'L', 'L', 'Q', 'H', 'F', 'S', 'F', 'S', 'V', 'A', 'A', 'G', 'Q', 'P', 'R', 'P', 'S', 'H', 'S', 'R', 'V', 'V', 'S', 'F', 'L', 'V', 'T', 'P', 'S', 'P', 'Y', 'E', 'L', '[SEP]']\n"
     ]
    }
   ],
   "source": [
    "# View tokens\n",
    "tokens = tokenizer.convert_ids_to_tokens(sample['input_ids'])\n",
    "print(tokens)\n"
   ]
  }
 ],
 "metadata": {
  "colab": {
   "authorship_tag": "ABX9TyPQaJjDwdy+/GutFWisWhUU",
   "provenance": [
    {
     "file_id": "1tRe7PEonJy5f8mQKqMGxwKZaaOXIdoOF",
     "timestamp": 1744042247224
    }
   ]
  },
  "kernelspec": {
   "display_name": "Python 3",
   "name": "python3"
  },
  "language_info": {
   "name": "python"
  }
 },
 "nbformat": 4,
 "nbformat_minor": 0
}
